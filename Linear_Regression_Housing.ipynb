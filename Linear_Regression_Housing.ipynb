{
 "cells": [
  {
   "cell_type": "code",
   "execution_count": 42,
   "id": "8e3ff469-7017-4cfd-9abb-fb098fc15a06",
   "metadata": {},
   "outputs": [],
   "source": [
    "# Import libraries and Load the dataset\n",
    "from random import seed\n",
    "from random import randrange\n",
    "from csv import reader\n",
    "from math import sqrt\n",
    "\n",
    "def load_csv(filename):\n",
    "    dataset = list()\n",
    "    with open(filename, 'r') as file:\n",
    "        for line in file:\n",
    "            row = line.strip().split()\n",
    "            if row:\n",
    "                dataset.append(row)\n",
    "    return dataset"
   ]
  },
  {
   "cell_type": "code",
   "execution_count": 43,
   "id": "69e68e1c-b68f-4e7f-aed6-103cf513bd89",
   "metadata": {},
   "outputs": [],
   "source": [
    "# Convert string column to float \n",
    "def str_column_to_float(dataset, column):\n",
    "    for i, row in enumerate(dataset):\n",
    "        try:\n",
    "            dataset[i][column] = float(row[column].strip())\n",
    "        except ValueError:\n",
    "            print(f\"Warning: couldn't convert {row[column]} in row {i}, column {column}\")\n",
    "            dataset[i][column] = float('nan')\n",
    "        except IndexError:\n",
    "            print(f\"Index error in row {row} and column {column}\")\n",
    "            dataset[i][column] = float('nan')\n",
    "\n",
    "# Split the dataset into train and test\n",
    "def train_test_split(dataset, split):\n",
    "    train = list()\n",
    "    train_size = int(split * len(dataset))\n",
    "    dataset_copy = list(dataset)\n",
    "    while len(train) < train_size:\n",
    "        index = randrange(len(dataset_copy))\n",
    "        train.append(dataset_copy.pop(index))\n",
    "    return train, dataset_copy"
   ]
  },
  {
   "cell_type": "code",
   "execution_count": 44,
   "id": "0a23c78f-daa9-4d28-a54f-073288bfde6a",
   "metadata": {},
   "outputs": [],
   "source": [
    "# Find mean and variance\n",
    "def mean(values):\n",
    "    return sum(values) / float(len(values))\n",
    "\n",
    "def variance(values, mean):\n",
    "    return sum([(x-mean) ** 2 for x in values])"
   ]
  },
  {
   "cell_type": "code",
   "execution_count": 45,
   "id": "351f79fa-1e55-41dd-b470-132ec07e6eac",
   "metadata": {},
   "outputs": [],
   "source": [
    "# Calculate covariance between x and y\n",
    "def covariance(x, mean_x, y, mean_y):\n",
    "    covar = 0.0\n",
    "    for i in range(len(x)):\n",
    "        covar += (x[i] - mean_x) * (y[i] - mean_y)\n",
    "    return covar"
   ]
  },
  {
   "cell_type": "code",
   "execution_count": 46,
   "id": "8a090af1-14ef-4543-b075-a1ece2b594ab",
   "metadata": {},
   "outputs": [],
   "source": [
    "# Estimate value of both coefficients in Linear regression\n",
    "def coefficients(dataset):\n",
    "    x = [row[0] for row in dataset]\n",
    "    y = [row[1] for row in dataset]\n",
    "    x_mean, y_mean = mean(x), mean(y)\n",
    "    b1 = covariance(x, x_mean, y, y_mean) / variance(x, x_mean)\n",
    "    b0 = y_mean - b1 * x_mean\n",
    "    return [b0, b1]"
   ]
  },
  {
   "cell_type": "code",
   "execution_count": 47,
   "id": "6d562696-5ddc-4a95-bd46-99f2dc345e80",
   "metadata": {},
   "outputs": [],
   "source": [
    "# Define linear regression model to make prediction\n",
    "def simple_linear_regression(train, test):\n",
    "    predictions = list()\n",
    "    b0, b1 = coefficients(train)\n",
    "    for row in test:\n",
    "        yhat = b0 + b1 * row[0]\n",
    "        predictions.append(yhat)\n",
    "    return predictions"
   ]
  },
  {
   "cell_type": "code",
   "execution_count": 48,
   "id": "253af8b2-bc17-46a4-b833-047c25b819ba",
   "metadata": {},
   "outputs": [],
   "source": [
    "# Evaluate performance using root mean squared error\n",
    "def rmse_metric(actual, predicted):\n",
    "    sum_error = 0.0\n",
    "    for i in range(len(actual)):\n",
    "        prediction_error = predicted[i] - actual[i]\n",
    "        sum_error += (prediction_error ** 2)\n",
    "    mean_error = sum_error / float(len(actual))\n",
    "    return sqrt(mean_error)"
   ]
  },
  {
   "cell_type": "code",
   "execution_count": 49,
   "id": "f2a526ef-f96d-43c5-922b-150e1a098965",
   "metadata": {},
   "outputs": [
    {
     "name": "stdout",
     "output_type": "stream",
     "text": [
      "RMSE: 19.195\n"
     ]
    }
   ],
   "source": [
    "# Calling main function to see the output\n",
    "filename = 'housing.csv'\n",
    "dataset = load_csv(filename)\n",
    "\n",
    "for i in range(len(dataset[0])):\n",
    "    str_column_to_float(dataset, i)\n",
    "\n",
    "split = 0.6\n",
    "train, test = train_test_split(dataset, split)\n",
    "\n",
    "predictions = simple_linear_regression(train, test)\n",
    "actual = [row[1] for row in test]\n",
    "rmse = rmse_metric(actual, predictions)\n",
    "print('RMSE: %.3f' %rmse)"
   ]
  },
  {
   "cell_type": "code",
   "execution_count": null,
   "id": "5941f685-b807-4be5-9945-a15b29a77f7f",
   "metadata": {},
   "outputs": [],
   "source": []
  }
 ],
 "metadata": {
  "kernelspec": {
   "display_name": "Python 3 (ipykernel)",
   "language": "python",
   "name": "python3"
  },
  "language_info": {
   "codemirror_mode": {
    "name": "ipython",
    "version": 3
   },
   "file_extension": ".py",
   "mimetype": "text/x-python",
   "name": "python",
   "nbconvert_exporter": "python",
   "pygments_lexer": "ipython3",
   "version": "3.11.11"
  }
 },
 "nbformat": 4,
 "nbformat_minor": 5
}
