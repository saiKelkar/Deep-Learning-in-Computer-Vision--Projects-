{
 "cells": [
  {
   "cell_type": "code",
   "execution_count": 1,
   "id": "b2b5e396-2ca1-42fa-934b-ed47b6653164",
   "metadata": {},
   "outputs": [],
   "source": [
    "!pip install torchinfo -q"
   ]
  },
  {
   "cell_type": "code",
   "execution_count": 3,
   "id": "a6beb347-af24-434b-890e-3a62c1417f08",
   "metadata": {},
   "outputs": [],
   "source": [
    "# Import PyTorch for deep learning computations\n",
    "import torch\n",
    "# Import neural network module from PyTorch\n",
    "import torch.nn as nn\n",
    "# Import optimizers for training models\n",
    "import torch.optim as optim\n",
    "# Import time module for measuring execution time\n",
    "import time\n",
    "# Import NumPy for neumerical operations\n",
    "import numpy as np\n",
    "# Import Matplotlib for visualizations\n",
    "import matplotlib.pyplot as plt\n",
    "# Import os for file system operations\n",
    "import os\n",
    "# Import zipfile for extracting compressed datasets\n",
    "import zipfile\n",
    "from zipfile import ZipFile\n",
    "\n",
    "# Import pandas for data manipulation and analysis\n",
    "import pandas as pd\n",
    "# Import PIL for image processing\n",
    "from PIL import Image\n",
    "# Import torchinfo for displaying model summaries\n",
    "from torchinfo import summary\n",
    "# Import DataLoader for handling batch data loading\n",
    "from torch.utils.data import DataLoader\n",
    "\n",
    "# Set Matplotlib style to 'ggplot' for better visualization\n",
    "plt.style.use('ggplot')"
   ]
  },
  {
   "cell_type": "code",
   "execution_count": null,
   "id": "e842d04d-3a30-493b-8d84-9baf6b0433bf",
   "metadata": {},
   "outputs": [],
   "source": []
  }
 ],
 "metadata": {
  "kernelspec": {
   "display_name": "Python 3 (ipykernel)",
   "language": "python",
   "name": "python3"
  },
  "language_info": {
   "codemirror_mode": {
    "name": "ipython",
    "version": 3
   },
   "file_extension": ".py",
   "mimetype": "text/x-python",
   "name": "python",
   "nbconvert_exporter": "python",
   "pygments_lexer": "ipython3",
   "version": "3.11.11"
  }
 },
 "nbformat": 4,
 "nbformat_minor": 5
}
