{
 "cells": [
  {
   "cell_type": "code",
   "execution_count": null,
   "id": "e61e0d04-2640-424f-b42c-52370358f62b",
   "metadata": {},
   "outputs": [],
   "source": [
    "!pip install tensorflow numpy matplotlib ultralytics"
   ]
  },
  {
   "cell_type": "code",
   "execution_count": null,
   "id": "3dfc3882-3fe4-4670-8566-fe73b1e7a50b",
   "metadata": {},
   "outputs": [],
   "source": [
    "import kagglehub\n",
    "\n",
    "# Download latest version\n",
    "path = kagglehub.dataset_download(\"techsash/waste-classification-data\")\n",
    "\n",
    "print(\"Path to dataset files:\", path)"
   ]
  },
  {
   "cell_type": "code",
   "execution_count": null,
   "id": "96c42587-da6e-455a-8e3b-50369381c760",
   "metadata": {},
   "outputs": [],
   "source": []
  }
 ],
 "metadata": {
  "kernelspec": {
   "display_name": "Python 3 (ipykernel)",
   "language": "python",
   "name": "python3"
  },
  "language_info": {
   "codemirror_mode": {
    "name": "ipython",
    "version": 3
   },
   "file_extension": ".py",
   "mimetype": "text/x-python",
   "name": "python",
   "nbconvert_exporter": "python",
   "pygments_lexer": "ipython3",
   "version": "3.11.11"
  }
 },
 "nbformat": 4,
 "nbformat_minor": 5
}
